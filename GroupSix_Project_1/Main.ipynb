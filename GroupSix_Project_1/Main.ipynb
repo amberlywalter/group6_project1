{
 "cells": [
  {
   "cell_type": "code",
   "execution_count": 15,
   "id": "a5feddc7",
   "metadata": {},
   "outputs": [],
   "source": [
    "#main data file and import script for class group 6  project 1\n",
    "# Author AO ottoaara@gmail.com. 952.693.1378 \n",
    "# 5.5.23\n",
    "# data source mpls open data https://opendata.minneapolismn.gov/datasets/cityoflakes::crime-data/explore?location=19.216823%2C-46.664577%2C4.00\n",
    "# CSV option under Crime Data Header\n",
    "import pandas as pd\n",
    "import csv\n",
    "import json\n",
    "#crime_data_main  = full data set (75 Megs so seperated out into groups for ease of dev)\n",
    "#ran_crime_data_df is a light 1000 rows of data randomly choosen from crime_data_man to work with\n",
    "#crime_data_2019 = data for 2019 \n",
    "#crime_data_2020 ...\n",
    "#crime_data_2021 ...\n",
    "#crime_data_2022...\n",
    "##crime_data_2023 = data for 2023 \n",
    "filename = \"Crime_Data.csv\"\n",
    "csvdatapath = \"Data/\" + filename"
   ]
  },
  {
   "cell_type": "code",
   "execution_count": 16,
   "id": "37a4b984",
   "metadata": {},
   "outputs": [],
   "source": [
    "# download local from repo to desktop (clone to your desktop)\n",
    "#this reads the csv file \n",
    "crime_data_main = pd.read_csv(csvdatapath)"
   ]
  },
  {
   "cell_type": "code",
   "execution_count": 17,
   "id": "4b2fb486",
   "metadata": {},
   "outputs": [
    {
     "data": {
      "text/plain": [
       "Index(['X', 'Y', 'Type', 'Case_Number', 'Case_NumberAlt', 'Reported_Date',\n",
       "       'Occurred_Date', 'NIBRS_Crime_Against', 'NIBRS_Group', 'NIBRS_Code',\n",
       "       'Offense_Category', 'Offense', 'Problem_Initial', 'Problem_Final',\n",
       "       'Address', 'Precinct', 'Neighborhood', 'Ward', 'Latitude', 'Longitude',\n",
       "       'wgsXAnon', 'wgsYAnon', 'Crime_Count', 'OBJECTID'],\n",
       "      dtype='object')"
      ]
     },
     "execution_count": 17,
     "metadata": {},
     "output_type": "execute_result"
    }
   ],
   "source": [
    "#columns listed for ease of co-development use. \n",
    "crime_data_main.columns"
   ]
  },
  {
   "cell_type": "code",
   "execution_count": 18,
   "id": "d596447a",
   "metadata": {},
   "outputs": [
    {
     "data": {
      "text/plain": [
       "X                      float64\n",
       "Y                      float64\n",
       "Type                    object\n",
       "Case_Number             object\n",
       "Case_NumberAlt          object\n",
       "Reported_Date           object\n",
       "Occurred_Date           object\n",
       "NIBRS_Crime_Against     object\n",
       "NIBRS_Group             object\n",
       "NIBRS_Code              object\n",
       "Offense_Category        object\n",
       "Offense                 object\n",
       "Problem_Initial         object\n",
       "Problem_Final           object\n",
       "Address                 object\n",
       "Precinct               float64\n",
       "Neighborhood            object\n",
       "Ward                   float64\n",
       "Latitude               float64\n",
       "Longitude              float64\n",
       "wgsXAnon               float64\n",
       "wgsYAnon               float64\n",
       "Crime_Count              int64\n",
       "OBJECTID                 int64\n",
       "dtype: object"
      ]
     },
     "execution_count": 18,
     "metadata": {},
     "output_type": "execute_result"
    }
   ],
   "source": [
    "#checkign data types \n",
    "crime_data_main.dtypes"
   ]
  },
  {
   "cell_type": "code",
   "execution_count": 19,
   "id": "eb79d09c",
   "metadata": {},
   "outputs": [
    {
     "data": {
      "text/plain": [
       "226120"
      ]
     },
     "execution_count": 19,
     "metadata": {},
     "output_type": "execute_result"
    }
   ],
   "source": [
    "#get count of one column to prep for null value check \n",
    "crime_data_main[\"X\"].count()"
   ]
  },
  {
   "cell_type": "code",
   "execution_count": 20,
   "id": "8c595104",
   "metadata": {},
   "outputs": [],
   "source": [
    "# Remove rows containing all null values- cleaning data set\n",
    "crime_data_clean = crime_data_main.dropna(how='any')"
   ]
  },
  {
   "cell_type": "code",
   "execution_count": 21,
   "id": "83c6ca54",
   "metadata": {},
   "outputs": [
    {
     "data": {
      "text/plain": [
       "151701"
      ]
     },
     "execution_count": 21,
     "metadata": {},
     "output_type": "execute_result"
    }
   ],
   "source": [
    "# removing rows with null values.  \n",
    "crime_data_clean[\"X\"].count()"
   ]
  },
  {
   "cell_type": "code",
   "execution_count": 22,
   "id": "3aa088a3",
   "metadata": {},
   "outputs": [
    {
     "data": {
      "text/plain": [
       "array(['Subset of NIBRS Assault Offenses', 'Assault Offenses ',\n",
       "       'Larceny/Theft Offenses ', 'Sex Offenses ',\n",
       "       'Drug/Narcotic Offenses ', 'Robbery ', 'Fraud Offenses ',\n",
       "       'Burglary/Breaking & Entering ', 'Motor Vehicle Theft ',\n",
       "       'Stolen Property Offenses ', 'Weapon Law Violations ',\n",
       "       'Counterfeiting/Forgery ', 'Extortion/Blackmail ',\n",
       "       'Kidnapping/Abduction ', 'Embezzlement ',\n",
       "       'Subset of NIBRS Robbery', 'Pornography/Obscene Material ',\n",
       "       'Prostitution Offenses ', 'Arson ', 'Homicide Offenses ',\n",
       "       'Destruction/Damage/Vandalism of Property ', 'Animal Cruelty ',\n",
       "       'Human Trafficking ', 'Bribery ', 'Gambling Offenses ',\n",
       "       'Gunshot Wound Victims', 'Shots Fired Calls'], dtype=object)"
      ]
     },
     "execution_count": 22,
     "metadata": {},
     "output_type": "execute_result"
    }
   ],
   "source": [
    "# checking values of crime category to reduce our data set down further to violent crimes \n",
    "crime_data_clean[\"Offense_Category\"].unique()"
   ]
  },
  {
   "cell_type": "code",
   "execution_count": 24,
   "id": "869705a6",
   "metadata": {},
   "outputs": [],
   "source": [
    "# reducing the data sets to only have violent crimes in them.  Note Included motor vehicle theft due to the\n",
    "# high volumme of car-jackings occuring in mpls. \n",
    "\n",
    "crime_categories = [\n",
    "    'Subset of NIBRS Assault Offenses',\n",
    "    'Assault Offenses',\n",
    "    'Larceny/Theft Offenses',\n",
    "    'Sex Offenses',\n",
    "    'Robbery',\n",
    "    'Burglary/Breaking & Entering',\n",
    "    'Motor Vehicle Theft',\n",
    "    'Weapon Law Violations',\n",
    "    'Kidnapping/Abduction',\n",
    "    'Homicide Offenses',\n",
    "    'Human Trafficking',\n",
    "    'Gunshot Wound Victims',\n",
    "    'Shots Fired Calls'\n",
    "]\n",
    "\n",
    "crime_data_clean = crime_data_clean[crime_data_clean['Offense_Category'].isin(crime_categories)]\n"
   ]
  },
  {
   "cell_type": "code",
   "execution_count": 25,
   "id": "627a2aab",
   "metadata": {},
   "outputs": [
    {
     "name": "stderr",
     "output_type": "stream",
     "text": [
      "/var/folders/xh/4tzf2qqj3cn9c2g0yyfptlbr0000gn/T/ipykernel_3092/2250024751.py:2: SettingWithCopyWarning: \n",
      "A value is trying to be set on a copy of a slice from a DataFrame.\n",
      "Try using .loc[row_indexer,col_indexer] = value instead\n",
      "\n",
      "See the caveats in the documentation: https://pandas.pydata.org/pandas-docs/stable/user_guide/indexing.html#returning-a-view-versus-a-copy\n",
      "  crime_data_clean['Occurred_Date'] = pd.to_datetime(crime_data_clean['Occurred_Date'])\n"
     ]
    }
   ],
   "source": [
    "#changing Occured_Date filed to data/time from object\n",
    "crime_data_clean['Occurred_Date'] = pd.to_datetime(crime_data_clean['Occurred_Date'])\n"
   ]
  },
  {
   "cell_type": "code",
   "execution_count": 26,
   "id": "aee856a8",
   "metadata": {},
   "outputs": [
    {
     "data": {
      "text/plain": [
       "X                                  float64\n",
       "Y                                  float64\n",
       "Type                                object\n",
       "Case_Number                         object\n",
       "Case_NumberAlt                      object\n",
       "Reported_Date                       object\n",
       "Occurred_Date          datetime64[ns, UTC]\n",
       "NIBRS_Crime_Against                 object\n",
       "NIBRS_Group                         object\n",
       "NIBRS_Code                          object\n",
       "Offense_Category                    object\n",
       "Offense                             object\n",
       "Problem_Initial                     object\n",
       "Problem_Final                       object\n",
       "Address                             object\n",
       "Precinct                           float64\n",
       "Neighborhood                        object\n",
       "Ward                               float64\n",
       "Latitude                           float64\n",
       "Longitude                          float64\n",
       "wgsXAnon                           float64\n",
       "wgsYAnon                           float64\n",
       "Crime_Count                          int64\n",
       "OBJECTID                             int64\n",
       "dtype: object"
      ]
     },
     "execution_count": 26,
     "metadata": {},
     "output_type": "execute_result"
    }
   ],
   "source": [
    "#checking to make sure date/time conv worked \n",
    "crime_data_clean.dtypes"
   ]
  },
  {
   "cell_type": "code",
   "execution_count": 27,
   "id": "217ddd46",
   "metadata": {},
   "outputs": [],
   "source": [
    "#building random data set \n",
    "n_samples = min(1000, len(crime_data_clean))\n",
    "ran_crime_data_df = crime_data_clean.sample(n=n_samples, random_state=42)"
   ]
  },
  {
   "cell_type": "code",
   "execution_count": 28,
   "id": "b5212116",
   "metadata": {},
   "outputs": [],
   "source": [
    "#building year data sets\n",
    "crime_data_2019 = crime_data_clean[crime_data_clean['Occurred_Date'].dt.year == 2019]\n",
    "crime_data_2020 = crime_data_clean[crime_data_clean['Occurred_Date'].dt.year == 2020]\n",
    "crime_data_2021 = crime_data_clean[crime_data_clean['Occurred_Date'].dt.year == 2021]\n",
    "crime_data_2022 = crime_data_clean[crime_data_clean['Occurred_Date'].dt.year == 2022]\n",
    "crime_data_2023 = crime_data_clean[crime_data_clean['Occurred_Date'].dt.year == 2023]"
   ]
  },
  {
   "cell_type": "code",
   "execution_count": 13,
   "id": "bb3f078d",
   "metadata": {},
   "outputs": [
    {
     "data": {
      "text/plain": [
       "array(['Subset of NIBRS Assault Offenses', 'Assault Offenses ',\n",
       "       'Larceny/Theft Offenses ', 'Sex Offenses ',\n",
       "       'Drug/Narcotic Offenses ', 'Robbery ', 'Fraud Offenses ',\n",
       "       'Burglary/Breaking & Entering ', 'Motor Vehicle Theft ',\n",
       "       'Stolen Property Offenses ', 'Weapon Law Violations ',\n",
       "       'Counterfeiting/Forgery ', 'Extortion/Blackmail ',\n",
       "       'Kidnapping/Abduction ', 'Embezzlement ',\n",
       "       'Subset of NIBRS Robbery', 'Pornography/Obscene Material ',\n",
       "       'Prostitution Offenses ', 'Arson ', 'Homicide Offenses ',\n",
       "       'Destruction/Damage/Vandalism of Property ', 'Animal Cruelty ',\n",
       "       'Human Trafficking ', 'Bribery ', 'Gambling Offenses ',\n",
       "       'Gunshot Wound Victims', 'Shots Fired Calls'], dtype=object)"
      ]
     },
     "execution_count": 13,
     "metadata": {},
     "output_type": "execute_result"
    }
   ],
   "source": []
  },
  {
   "cell_type": "code",
   "execution_count": 38,
   "id": "d4a7a1e4",
   "metadata": {},
   "outputs": [],
   "source": [
    "# grouping with smaller data set to look at where the crimes are happening - counting number of offenses \n",
    "#grouped_data = ran_crime_data_df.groupby(['Neighborhood', 'Address']).size().reset_index(name='Offense_Count')\n",
    "grouped_data = ran_crime_data_df.groupby(['Neighborhood', 'Address', 'Offense_Category']).size().reset_index(name='Offense_Count')\n"
   ]
  },
  {
   "cell_type": "code",
   "execution_count": 39,
   "id": "e16d0d8d",
   "metadata": {},
   "outputs": [],
   "source": [
    "#sorting grouped data to show the worst parts of town ie sorting by places more than one offense occurred\n",
    "sorted_grouped_data = grouped_data.sort_values(by='Offense_Count', ascending=False)\n"
   ]
  },
  {
   "cell_type": "code",
   "execution_count": 40,
   "id": "71b7a8fc",
   "metadata": {},
   "outputs": [
    {
     "data": {
      "text/html": [
       "<div>\n",
       "<style scoped>\n",
       "    .dataframe tbody tr th:only-of-type {\n",
       "        vertical-align: middle;\n",
       "    }\n",
       "\n",
       "    .dataframe tbody tr th {\n",
       "        vertical-align: top;\n",
       "    }\n",
       "\n",
       "    .dataframe thead th {\n",
       "        text-align: right;\n",
       "    }\n",
       "</style>\n",
       "<table border=\"1\" class=\"dataframe\">\n",
       "  <thead>\n",
       "    <tr style=\"text-align: right;\">\n",
       "      <th></th>\n",
       "      <th>Neighborhood</th>\n",
       "      <th>Address</th>\n",
       "      <th>Offense_Category</th>\n",
       "      <th>Offense_Count</th>\n",
       "    </tr>\n",
       "  </thead>\n",
       "  <tbody>\n",
       "    <tr>\n",
       "      <th>205</th>\n",
       "      <td>Hawthorne</td>\n",
       "      <td>0021XX ALDRICH AVE N</td>\n",
       "      <td>Shots Fired Calls</td>\n",
       "      <td>14</td>\n",
       "    </tr>\n",
       "    <tr>\n",
       "      <th>350</th>\n",
       "      <td>Lowry Hill East</td>\n",
       "      <td>0028XX DUPONT AVE S</td>\n",
       "      <td>Subset of NIBRS Assault Offenses</td>\n",
       "      <td>11</td>\n",
       "    </tr>\n",
       "    <tr>\n",
       "      <th>204</th>\n",
       "      <td>Hawthorne</td>\n",
       "      <td>0021XX ALDRICH AVE N</td>\n",
       "      <td>Gunshot Wound Victims</td>\n",
       "      <td>9</td>\n",
       "    </tr>\n",
       "    <tr>\n",
       "      <th>251</th>\n",
       "      <td>Jordan</td>\n",
       "      <td>0014XX 29TH AVE N</td>\n",
       "      <td>Subset of NIBRS Assault Offenses</td>\n",
       "      <td>8</td>\n",
       "    </tr>\n",
       "    <tr>\n",
       "      <th>526</th>\n",
       "      <td>Steven's Square - Loring Heights</td>\n",
       "      <td>0018XX 1ST AVE S</td>\n",
       "      <td>Subset of NIBRS Assault Offenses</td>\n",
       "      <td>8</td>\n",
       "    </tr>\n",
       "    <tr>\n",
       "      <th>...</th>\n",
       "      <td>...</td>\n",
       "      <td>...</td>\n",
       "      <td>...</td>\n",
       "      <td>...</td>\n",
       "    </tr>\n",
       "    <tr>\n",
       "      <th>239</th>\n",
       "      <td>Holland</td>\n",
       "      <td>0007XX LOWRY AVE NE</td>\n",
       "      <td>Gunshot Wound Victims</td>\n",
       "      <td>1</td>\n",
       "    </tr>\n",
       "    <tr>\n",
       "      <th>238</th>\n",
       "      <td>Holland</td>\n",
       "      <td>0006XX 26TH AVE NE</td>\n",
       "      <td>Subset of NIBRS Assault Offenses</td>\n",
       "      <td>1</td>\n",
       "    </tr>\n",
       "    <tr>\n",
       "      <th>237</th>\n",
       "      <td>Holland</td>\n",
       "      <td>0006XX 26TH AVE NE</td>\n",
       "      <td>Gunshot Wound Victims</td>\n",
       "      <td>1</td>\n",
       "    </tr>\n",
       "    <tr>\n",
       "      <th>236</th>\n",
       "      <td>Holland</td>\n",
       "      <td>0006XX 19TH AVE NE</td>\n",
       "      <td>Shots Fired Calls</td>\n",
       "      <td>1</td>\n",
       "    </tr>\n",
       "    <tr>\n",
       "      <th>332</th>\n",
       "      <td>Loring Park</td>\n",
       "      <td>0014XX NICOLLET AVE</td>\n",
       "      <td>Shots Fired Calls</td>\n",
       "      <td>1</td>\n",
       "    </tr>\n",
       "  </tbody>\n",
       "</table>\n",
       "<p>665 rows × 4 columns</p>\n",
       "</div>"
      ],
      "text/plain": [
       "                         Neighborhood               Address  \\\n",
       "205                         Hawthorne  0021XX ALDRICH AVE N   \n",
       "350                   Lowry Hill East   0028XX DUPONT AVE S   \n",
       "204                         Hawthorne  0021XX ALDRICH AVE N   \n",
       "251                            Jordan     0014XX 29TH AVE N   \n",
       "526  Steven's Square - Loring Heights      0018XX 1ST AVE S   \n",
       "..                                ...                   ...   \n",
       "239                           Holland   0007XX LOWRY AVE NE   \n",
       "238                           Holland    0006XX 26TH AVE NE   \n",
       "237                           Holland    0006XX 26TH AVE NE   \n",
       "236                           Holland    0006XX 19TH AVE NE   \n",
       "332                       Loring Park   0014XX NICOLLET AVE   \n",
       "\n",
       "                     Offense_Category  Offense_Count  \n",
       "205                 Shots Fired Calls             14  \n",
       "350  Subset of NIBRS Assault Offenses             11  \n",
       "204             Gunshot Wound Victims              9  \n",
       "251  Subset of NIBRS Assault Offenses              8  \n",
       "526  Subset of NIBRS Assault Offenses              8  \n",
       "..                                ...            ...  \n",
       "239             Gunshot Wound Victims              1  \n",
       "238  Subset of NIBRS Assault Offenses              1  \n",
       "237             Gunshot Wound Victims              1  \n",
       "236                 Shots Fired Calls              1  \n",
       "332                 Shots Fired Calls              1  \n",
       "\n",
       "[665 rows x 4 columns]"
      ]
     },
     "execution_count": 40,
     "metadata": {},
     "output_type": "execute_result"
    }
   ],
   "source": [
    "# viewing sorted data frame. \n",
    "sorted_grouped_data"
   ]
  },
  {
   "cell_type": "code",
   "execution_count": null,
   "id": "b304568b",
   "metadata": {},
   "outputs": [],
   "source": []
  }
 ],
 "metadata": {
  "kernelspec": {
   "display_name": "Python 3 (ipykernel)",
   "language": "python",
   "name": "python3"
  },
  "language_info": {
   "codemirror_mode": {
    "name": "ipython",
    "version": 3
   },
   "file_extension": ".py",
   "mimetype": "text/x-python",
   "name": "python",
   "nbconvert_exporter": "python",
   "pygments_lexer": "ipython3",
   "version": "3.9.13"
  }
 },
 "nbformat": 4,
 "nbformat_minor": 5
}
